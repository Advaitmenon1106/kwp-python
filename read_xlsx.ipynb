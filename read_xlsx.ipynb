{
 "cells": [
  {
   "cell_type": "code",
   "execution_count": 1,
   "metadata": {},
   "outputs": [],
   "source": [
    "import numpy as np\n",
    "import pandas as pd"
   ]
  },
  {
   "cell_type": "code",
   "execution_count": 2,
   "metadata": {},
   "outputs": [],
   "source": [
    "df = [pd.read_excel('/home/advait/Desktop/testsheet.xlsx', sheet_name=\"Sheet\"+str(i)) for i in range (1, 3)]"
   ]
  },
  {
   "cell_type": "code",
   "execution_count": null,
   "metadata": {},
   "outputs": [],
   "source": []
  },
  {
   "cell_type": "code",
   "execution_count": 3,
   "metadata": {},
   "outputs": [],
   "source": [
    "for x in range(0, 5):\n",
    "    globals()[\"string%s\"%x] = 'Hello'"
   ]
  },
  {
   "cell_type": "code",
   "execution_count": 4,
   "metadata": {},
   "outputs": [
    {
     "data": {
      "text/plain": [
       "{'__name__': '__main__',\n",
       " '__doc__': 'Automatically created module for IPython interactive environment',\n",
       " '__package__': None,\n",
       " '__loader__': None,\n",
       " '__spec__': None,\n",
       " '__builtin__': <module 'builtins' (built-in)>,\n",
       " '__builtins__': <module 'builtins' (built-in)>,\n",
       " '_ih': ['',\n",
       "  'import numpy as np\\nimport pandas as pd',\n",
       "  'df = [pd.read_excel(\\'/home/advait/Desktop/testsheet.xlsx\\', sheet_name=\"Sheet\"+str(i)) for i in range (1, 3)]',\n",
       "  'for x in range(0, 5):\\n    globals()[\"string%s\"%x] = \\'Hello\\'',\n",
       "  'globals()'],\n",
       " '_oh': {},\n",
       " '_dh': [PosixPath('/home/advait/kwp-py'), PosixPath('/home/advait/kwp-py')],\n",
       " 'In': ['',\n",
       "  'import numpy as np\\nimport pandas as pd',\n",
       "  'df = [pd.read_excel(\\'/home/advait/Desktop/testsheet.xlsx\\', sheet_name=\"Sheet\"+str(i)) for i in range (1, 3)]',\n",
       "  'for x in range(0, 5):\\n    globals()[\"string%s\"%x] = \\'Hello\\'',\n",
       "  'globals()'],\n",
       " 'Out': {},\n",
       " 'get_ipython': <bound method InteractiveShell.get_ipython of <ipykernel.zmqshell.ZMQInteractiveShell object at 0x7f152bb34a30>>,\n",
       " 'exit': <IPython.core.autocall.ZMQExitAutocall at 0x7f152bb35300>,\n",
       " 'quit': <IPython.core.autocall.ZMQExitAutocall at 0x7f152bb35300>,\n",
       " 'open': <function io.open(file, mode='r', buffering=-1, encoding=None, errors=None, newline=None, closefd=True, opener=None)>,\n",
       " '_': '',\n",
       " '__': '',\n",
       " '___': '',\n",
       " '__vsc_ipynb_file__': '/home/advait/kwp-py/read_xlsx.ipynb',\n",
       " '_i': 'for x in range(0, 5):\\n    globals()[\"string%s\"%x] = \\'Hello\\'',\n",
       " '_ii': 'df = [pd.read_excel(\\'/home/advait/Desktop/testsheet.xlsx\\', sheet_name=\"Sheet\"+str(i)) for i in range (1, 3)]',\n",
       " '_iii': 'import numpy as np\\nimport pandas as pd',\n",
       " '_i1': 'import numpy as np\\nimport pandas as pd',\n",
       " 'np': <module 'numpy' from '/home/advait/.local/lib/python3.10/site-packages/numpy/__init__.py'>,\n",
       " 'pd': <module 'pandas' from '/home/advait/.local/lib/python3.10/site-packages/pandas/__init__.py'>,\n",
       " '_i2': 'df = [pd.read_excel(\\'/home/advait/Desktop/testsheet.xlsx\\', sheet_name=\"Sheet\"+str(i)) for i in range (1, 3)]',\n",
       " 'df': [     52  45  82\n",
       "  0    55  57  51\n",
       "  1    52  88  78\n",
       "  2     7  82  52\n",
       "  3    49  28  63\n",
       "  4    96  88  52\n",
       "  5    93  14  15\n",
       "  6    19  97   6\n",
       "  7    97  52  34\n",
       "  8    58  17  52\n",
       "  9    13  96  39\n",
       "  10    4  61  61\n",
       "  11   79  92  78\n",
       "  12   81  75  87\n",
       "  13   15  97  10\n",
       "  14   77  82  97\n",
       "  15   62   6  91\n",
       "  16    3  31  52\n",
       "  17    0  22  29\n",
       "  18   93  10  64\n",
       "  19    0  19  49\n",
       "  20   86  26   5\n",
       "  21   46  25  37\n",
       "  22   26  92   4\n",
       "  23   32  66  57\n",
       "  24   95  43  70\n",
       "  25   57  97  26\n",
       "  26   28   7  35\n",
       "  27   82  28  15\n",
       "  28   44   9  93\n",
       "  29  100  54  29\n",
       "  30   92  28  98\n",
       "  31   32   4  71,\n",
       "      36   92  58\n",
       "  0   62   18  39\n",
       "  1    4   67   5\n",
       "  2   28   78  47\n",
       "  3   97   49  27\n",
       "  4   74   43  45\n",
       "  5   73   10  36\n",
       "  6   93   41  38\n",
       "  7   20   25  99\n",
       "  8   58   91  65\n",
       "  9   63   17  64\n",
       "  10   0   45  52\n",
       "  11  85   30  58\n",
       "  12  86   41  44\n",
       "  13  45   15   8\n",
       "  14   8  100  41\n",
       "  15  29   76  21\n",
       "  16  10   47  87\n",
       "  17  58   95  79\n",
       "  18  98   32  71\n",
       "  19  66   86  11\n",
       "  20  64   15  78\n",
       "  21  86   68  97\n",
       "  22  71   25  15\n",
       "  23  54   39  50\n",
       "  24  15   46   9\n",
       "  25  67   74  48\n",
       "  26  37   72  74\n",
       "  27  17   99  20\n",
       "  28  48   64  63\n",
       "  29  55   71  97\n",
       "  30  97   48  33\n",
       "  31  53    6  19],\n",
       " '_i3': 'for x in range(0, 5):\\n    globals()[\"string%s\"%x] = \\'Hello\\'',\n",
       " 'x': 4,\n",
       " 'string0': 'Hello',\n",
       " 'string1': 'Hello',\n",
       " 'string2': 'Hello',\n",
       " 'string3': 'Hello',\n",
       " 'string4': 'Hello',\n",
       " '_i4': 'globals()'}"
      ]
     },
     "execution_count": 4,
     "metadata": {},
     "output_type": "execute_result"
    }
   ],
   "source": [
    "globals()"
   ]
  },
  {
   "cell_type": "code",
   "execution_count": null,
   "metadata": {},
   "outputs": [],
   "source": []
  }
 ],
 "metadata": {
  "kernelspec": {
   "display_name": "Python 3",
   "language": "python",
   "name": "python3"
  },
  "language_info": {
   "codemirror_mode": {
    "name": "ipython",
    "version": 3
   },
   "file_extension": ".py",
   "mimetype": "text/x-python",
   "name": "python",
   "nbconvert_exporter": "python",
   "pygments_lexer": "ipython3",
   "version": "3.10.6"
  },
  "orig_nbformat": 4
 },
 "nbformat": 4,
 "nbformat_minor": 2
}
